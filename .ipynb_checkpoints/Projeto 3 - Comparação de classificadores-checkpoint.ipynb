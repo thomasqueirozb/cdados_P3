{
 "cells": [
  {
   "cell_type": "code",
   "execution_count": 1,
   "metadata": {},
   "outputs": [],
   "source": [
    "import cv2, os\n",
    "import numpy as np\n",
    "import matplotlib.pyplot as plt\n",
    "from time import time"
   ]
  },
  {
   "cell_type": "code",
   "execution_count": 2,
   "metadata": {},
   "outputs": [],
   "source": [
    "inicio_notebook = time()"
   ]
  },
  {
   "cell_type": "code",
   "execution_count": 3,
   "metadata": {},
   "outputs": [],
   "source": [
    "path_ori = os.getcwd()\n",
    "# path_dataset = \"C:\\\\Users\\\\thoma\\\\Documents\\\\INSPER\\\\2 Sem\\\\Ciência dos Dados\\\\lfw_funneled\"\n",
    "path_dataset = \"C:\\\\Users\\\\Bruno\\\\Documents\\\\Insper\\\\2º Semestre\\\\Ciência dos Dados\\\\Projeto_3\\\\lfw_funneled\""
   ]
  },
  {
   "cell_type": "code",
   "execution_count": 4,
   "metadata": {},
   "outputs": [
    {
     "data": {
      "text/plain": [
       "'Tempo para carregar as fotos: 27.29 segundos'"
      ]
     },
     "execution_count": 4,
     "metadata": {},
     "output_type": "execute_result"
    }
   ],
   "source": [
    "initialloadTime = time()\n",
    "\n",
    "os.chdir(path_dataset)\n",
    "\n",
    "with open('male_names.txt','r') as m:\n",
    "    male = m.readlines()\n",
    "    male = [i.replace(\"\\n\",\"\") for i in male]\n",
    "\n",
    "with open('female_names.txt','r') as fm:\n",
    "    female = fm.readlines()\n",
    "    female = [i.replace(\"\\n\",\"\") for i in female]\n",
    "\n",
    "\n",
    "m = []\n",
    "fm = []\n",
    "\n",
    "for pasta in os.listdir(path_dataset):\n",
    "    if \".\" not in pasta:\n",
    "        path_folder = \".\\\\\" + pasta\n",
    "        for im in os.listdir(path_folder):\n",
    "            tempIm = cv2.imread(path_folder + \"\\\\\" + im)\n",
    "\n",
    "            tempIm = cv2.pyrDown(tempIm)\n",
    "            tempIm = tempIm[20:100, 20:100]\n",
    "            tempIm = cv2.pyrDown(tempIm)\n",
    "#             tempIm = cv2.pyrDown(tempIm)\n",
    "            tempIm = cv2.cvtColor(tempIm, cv2.COLOR_BGR2GRAY)\n",
    "            \n",
    "            tempIm = tempIm.flatten()\n",
    "            \n",
    "            if im in male:\n",
    "                m.append(tempIm)\n",
    "            elif im in female:\n",
    "                fm.append(tempIm)\n",
    "\n",
    "os.chdir(path_ori)\n",
    "\n",
    "finalloadTime = time()\n",
    "f'Tempo para carregar as fotos: {finalloadTime - initialloadTime :.2f} segundos'"
   ]
  },
  {
   "cell_type": "code",
   "execution_count": 5,
   "metadata": {
    "scrolled": false
   },
   "outputs": [],
   "source": [
    "def plotImage(crop_img):\n",
    "    newIm = []\n",
    "    for i in range(crop_img.shape[0]):\n",
    "        newIm.append([])\n",
    "        for j in range(crop_img.shape[1]):\n",
    "            newIm[-1].append([crop_img[i,j]]*3)\n",
    "    plt.imshow(newIm)\n",
    "    plt.show()\n",
    "\n",
    "def plotImage1D(arr):\n",
    "    newIm = []\n",
    "    i=0\n",
    "    \n",
    "    while i < len(arr):\n",
    "        newIm.append(arr[i:i+40])\n",
    "        i+=40\n",
    "    plotImage(np.array(newIm))"
   ]
  },
  {
   "cell_type": "code",
   "execution_count": 6,
   "metadata": {},
   "outputs": [],
   "source": [
    "# m = m[:len(fm)]\n",
    "X = m + fm\n",
    "y = [0]*len(m) + [1]*len(fm)\n",
    "\n",
    "c = list(zip(X, y))\n",
    "\n",
    "np.random.shuffle(c)\n",
    "\n",
    "X, y = zip(*c)"
   ]
  },
  {
   "cell_type": "code",
   "execution_count": 7,
   "metadata": {},
   "outputs": [],
   "source": [
    "index = round(len(X) * 0.7)\n",
    "X_train, X_test = X[:index], X[index:]\n",
    "y_train, y_test = y[:index], y[index:]"
   ]
  },
  {
   "cell_type": "code",
   "execution_count": 8,
   "metadata": {},
   "outputs": [],
   "source": [
    "# startTrain = time()\n",
    "\n",
    "# from sklearn.svm import LinearSVC\n",
    "\n",
    "# model = LinearSVC(random_state=0, tol=1e-5)\n",
    "# model.fit(X_train, y_train)\n",
    "\n",
    "# endTrain = time()\n",
    "# print(f'Tempo para treinar o modelo: {endTrain - startTrain :.2f} segundos')\n",
    "\n",
    "# startPred = time()\n",
    "# y_pred = model.predict(X_test)\n",
    "\n",
    "# endPred = time()\n",
    "# print(f'Tempo para testar o modelo: {endPred - startPred :.2f} segundos')\n",
    "\n",
    "\n",
    "# 'Acurácia: {}'.format(accuracy_score(y_test, y_pred))"
   ]
  },
  {
   "cell_type": "code",
   "execution_count": 9,
   "metadata": {
    "scrolled": true
   },
   "outputs": [],
   "source": [
    "# comeco_treino = time()\n",
    "\n",
    "# from sklearn.ensemble import GradientBoostingClassifier\n",
    "\n",
    "# clf = GradientBoostingClassifier()\n",
    "# clf.fit(X_train, y_train)\n",
    "\n",
    "# fim_treino = time()\n",
    "# print(f'Tempo para treinar o modelo: {endTrain - startTrain :.2f} segundos')\n",
    "\n",
    "# comeco_prev = time()\n",
    "# y_pred = model.predict(X_test)\n",
    "\n",
    "# fim_prev = time()\n",
    "# print(f'Tempo para testar o modelo: {endPred - startPred :.2f} segundos')\n",
    "\n",
    "\n",
    "# 'Acurácia: {}'.format(accuracy_score(y_test, y_pred))"
   ]
  },
  {
   "cell_type": "code",
   "execution_count": 10,
   "metadata": {},
   "outputs": [
    {
     "name": "stderr",
     "output_type": "stream",
     "text": [
      "C:\\Users\\Bruno\\Anaconda\\lib\\site-packages\\sklearn\\ensemble\\weight_boosting.py:29: DeprecationWarning: numpy.core.umath_tests is an internal NumPy module and should not be imported. It will be removed in a future NumPy release.\n",
      "  from numpy.core.umath_tests import inner1d\n"
     ]
    },
    {
     "name": "stdout",
     "output_type": "stream",
     "text": [
      "Classificação por KNeighborsClassifier foi feita!\n",
      "Classificação por SVC foi feita!\n",
      "Classificação por LinearSVC foi feita!\n",
      "Classificação por DecisionTreeClassifier foi feita!\n",
      "Classificação por RandomForestClassifier foi feita!\n",
      "Classificação por AdaBoostClassifier foi feita!\n",
      "Classificação por GradientBoostingClassifier foi feita!\n",
      "Classificação por GaussianNB foi feita!\n",
      "Classificação por LinearDiscriminantAnalysis foi feita!\n",
      "Classificação por QuadraticDiscriminantAnalysis foi feita!\n"
     ]
    },
    {
     "data": {
      "text/html": [
       "<div>\n",
       "<style scoped>\n",
       "    .dataframe tbody tr th:only-of-type {\n",
       "        vertical-align: middle;\n",
       "    }\n",
       "\n",
       "    .dataframe tbody tr th {\n",
       "        vertical-align: top;\n",
       "    }\n",
       "\n",
       "    .dataframe thead th {\n",
       "        text-align: right;\n",
       "    }\n",
       "</style>\n",
       "<table border=\"1\" class=\"dataframe\">\n",
       "  <thead>\n",
       "    <tr style=\"text-align: right;\">\n",
       "      <th></th>\n",
       "      <th>Classificador</th>\n",
       "      <th>Acurácia (%)</th>\n",
       "      <th>Tempo para treinar (s)</th>\n",
       "      <th>Tempo para testar (s)</th>\n",
       "    </tr>\n",
       "  </thead>\n",
       "  <tbody>\n",
       "    <tr>\n",
       "      <th>0</th>\n",
       "      <td>KNeighborsClassifier</td>\n",
       "      <td>81.00</td>\n",
       "      <td>1.76</td>\n",
       "      <td>136.25</td>\n",
       "    </tr>\n",
       "    <tr>\n",
       "      <th>0</th>\n",
       "      <td>SVC</td>\n",
       "      <td>76.74</td>\n",
       "      <td>1076.58</td>\n",
       "      <td>78.80</td>\n",
       "    </tr>\n",
       "    <tr>\n",
       "      <th>0</th>\n",
       "      <td>LinearSVC</td>\n",
       "      <td>82.92</td>\n",
       "      <td>45.94</td>\n",
       "      <td>0.05</td>\n",
       "    </tr>\n",
       "    <tr>\n",
       "      <th>0</th>\n",
       "      <td>DecisionTreeClassifier</td>\n",
       "      <td>74.93</td>\n",
       "      <td>23.15</td>\n",
       "      <td>0.03</td>\n",
       "    </tr>\n",
       "    <tr>\n",
       "      <th>0</th>\n",
       "      <td>RandomForestClassifier</td>\n",
       "      <td>80.75</td>\n",
       "      <td>3.39</td>\n",
       "      <td>0.05</td>\n",
       "    </tr>\n",
       "    <tr>\n",
       "      <th>0</th>\n",
       "      <td>AdaBoostClassifier</td>\n",
       "      <td>83.65</td>\n",
       "      <td>55.66</td>\n",
       "      <td>0.35</td>\n",
       "    </tr>\n",
       "    <tr>\n",
       "      <th>0</th>\n",
       "      <td>GradientBoostingClassifier</td>\n",
       "      <td>85.79</td>\n",
       "      <td>133.70</td>\n",
       "      <td>0.05</td>\n",
       "    </tr>\n",
       "    <tr>\n",
       "      <th>0</th>\n",
       "      <td>GaussianNB</td>\n",
       "      <td>59.94</td>\n",
       "      <td>0.40</td>\n",
       "      <td>0.33</td>\n",
       "    </tr>\n",
       "    <tr>\n",
       "      <th>0</th>\n",
       "      <td>LinearDiscriminantAnalysis</td>\n",
       "      <td>85.03</td>\n",
       "      <td>10.09</td>\n",
       "      <td>0.06</td>\n",
       "    </tr>\n",
       "    <tr>\n",
       "      <th>0</th>\n",
       "      <td>QuadraticDiscriminantAnalysis</td>\n",
       "      <td>76.77</td>\n",
       "      <td>14.08</td>\n",
       "      <td>1.47</td>\n",
       "    </tr>\n",
       "  </tbody>\n",
       "</table>\n",
       "</div>"
      ],
      "text/plain": [
       "                   Classificador  Acurácia (%)  Tempo para treinar (s)  \\\n",
       "0           KNeighborsClassifier         81.00                    1.76   \n",
       "0                            SVC         76.74                 1076.58   \n",
       "0                      LinearSVC         82.92                   45.94   \n",
       "0         DecisionTreeClassifier         74.93                   23.15   \n",
       "0         RandomForestClassifier         80.75                    3.39   \n",
       "0             AdaBoostClassifier         83.65                   55.66   \n",
       "0     GradientBoostingClassifier         85.79                  133.70   \n",
       "0                     GaussianNB         59.94                    0.40   \n",
       "0     LinearDiscriminantAnalysis         85.03                   10.09   \n",
       "0  QuadraticDiscriminantAnalysis         76.77                   14.08   \n",
       "\n",
       "   Tempo para testar (s)  \n",
       "0                 136.25  \n",
       "0                  78.80  \n",
       "0                   0.05  \n",
       "0                   0.03  \n",
       "0                   0.05  \n",
       "0                   0.35  \n",
       "0                   0.05  \n",
       "0                   0.33  \n",
       "0                   0.06  \n",
       "0                   1.47  "
      ]
     },
     "execution_count": 10,
     "metadata": {},
     "output_type": "execute_result"
    }
   ],
   "source": [
    "from sklearn.metrics import accuracy_score, log_loss\n",
    "from sklearn.neighbors import KNeighborsClassifier\n",
    "from sklearn.svm import SVC, LinearSVC\n",
    "from sklearn.tree import DecisionTreeClassifier\n",
    "from sklearn.ensemble import RandomForestClassifier, AdaBoostClassifier, GradientBoostingClassifier\n",
    "from sklearn.naive_bayes import GaussianNB\n",
    "from sklearn.discriminant_analysis import LinearDiscriminantAnalysis\n",
    "from sklearn.discriminant_analysis import QuadraticDiscriminantAnalysis\n",
    "import pandas as pd\n",
    "\n",
    "classifiers = [\n",
    "    KNeighborsClassifier(3),\n",
    "    SVC(kernel=\"rbf\", C=0.025, probability=True),\n",
    "    LinearSVC(random_state=0, tol=1e-5),\n",
    "    DecisionTreeClassifier(),\n",
    "    RandomForestClassifier(),\n",
    "    AdaBoostClassifier(),\n",
    "    GradientBoostingClassifier(),\n",
    "    GaussianNB(),\n",
    "    LinearDiscriminantAnalysis(),\n",
    "    QuadraticDiscriminantAnalysis()]\n",
    "\n",
    "# Logging for Visual Comparison\n",
    "log_cols=[\"Classificador\", \"Acurácia (%)\", \"Tempo para treinar (s)\", \"Tempo para testar (s)\"]\n",
    "classificadores = pd.DataFrame(columns=log_cols)\n",
    "\n",
    "inicio_mont_tabela = time()\n",
    "for clf in classifiers:\n",
    "    comeco_treino = time()\n",
    "    clf.fit(X_train, y_train)\n",
    "    fim_treino = time()\n",
    "    temp_treino = fim_treino - comeco_treino\n",
    "    name = clf.__class__.__name__\n",
    "    \n",
    "#     print(\"=\"*30)\n",
    "#     print(name)\n",
    "    \n",
    "#     print('****Results****')\n",
    "    comeco_prev = time()\n",
    "    train_predictions = clf.predict(X_test)\n",
    "    fim_prev = time()\n",
    "    temp_teste = fim_prev - comeco_prev\n",
    "    acc = accuracy_score(y_test, train_predictions)\n",
    "#     print(\"Accuracy: {:.4%}\".format(acc))\n",
    "    \n",
    "#     train_predictions = clf.predict_proba(X_test)\n",
    "#     ll = log_loss(y_test, train_predictions)\n",
    "#     print(\"Log Loss: {}\".format(ll))\n",
    "    \n",
    "    log_entry = pd.DataFrame([[name, round(acc*100,2), round(temp_treino,2), round(temp_teste,2)]], columns=log_cols)\n",
    "    classificadores = classificadores.append(log_entry)\n",
    "    print(\"Classificação por \"+name+\" foi feita!\")\n",
    "    \n",
    "# print(\"=\"*30)\n",
    "fim_mont_tabela = time()\n",
    "tempo_tot_tabela = fim_mont_tabela - inicio_mont_tabela\n",
    "classificadores.set_index(\"Classificador\")\n",
    "classificadores"
   ]
  },
  {
   "cell_type": "code",
   "execution_count": 11,
   "metadata": {},
   "outputs": [
    {
     "data": {
      "text/plain": [
       "'O tempo necessário para montar a tabela foi 1582.26 s.'"
      ]
     },
     "execution_count": 11,
     "metadata": {},
     "output_type": "execute_result"
    }
   ],
   "source": [
    "f\"O tempo necessário para montar a tabela foi {tempo_tot_tabela:.2f} s.\""
   ]
  },
  {
   "cell_type": "code",
   "execution_count": 12,
   "metadata": {},
   "outputs": [
    {
     "data": {
      "text/plain": [
       "'O tempo necessário para rodar o notebook completo foi de 26.0 min e -1586 s.'"
      ]
     },
     "execution_count": 12,
     "metadata": {},
     "output_type": "execute_result"
    }
   ],
   "source": [
    "fim_notebook = time()\n",
    "tempo_notebook = fim_notebook - inicio_notebook"
   ]
  },
  {
   "cell_type": "code",
   "execution_count": 17,
   "metadata": {},
   "outputs": [
    {
     "data": {
      "text/plain": [
       "'O tempo necessário para rodar o notebook completo foi de 26 min e 52 s.'"
      ]
     },
     "execution_count": 17,
     "metadata": {},
     "output_type": "execute_result"
    }
   ],
   "source": [
    "minutos = round(tempo_notebook//60)\n",
    "segundos = round(tempo_notebook%60)\n",
    "f\"O tempo necessário para rodar o notebook completo foi de {minutos} min e {segundos} s.\""
   ]
  }
 ],
 "metadata": {
  "kernelspec": {
   "display_name": "Python 3",
   "language": "python",
   "name": "python3"
  },
  "language_info": {
   "codemirror_mode": {
    "name": "ipython",
    "version": 3
   },
   "file_extension": ".py",
   "mimetype": "text/x-python",
   "name": "python",
   "nbconvert_exporter": "python",
   "pygments_lexer": "ipython3",
   "version": "3.6.6"
  }
 },
 "nbformat": 4,
 "nbformat_minor": 2
}
