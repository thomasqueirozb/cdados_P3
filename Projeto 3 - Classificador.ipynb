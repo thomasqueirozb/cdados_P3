{
 "cells": [
  {
   "cell_type": "code",
   "execution_count": 43,
   "metadata": {},
   "outputs": [],
   "source": [
    "import cv2, os\n",
    "import numpy as np\n",
    "import matplotlib.pyplot as plt\n",
    "from time import time\n",
    "from sklearn.metrics import accuracy_score"
   ]
  },
  {
   "cell_type": "code",
   "execution_count": 44,
   "metadata": {},
   "outputs": [],
   "source": [
    "path_ori = os.getcwd()\n",
    "path_dataset = \"C:\\\\Users\\\\thoma\\\\Documents\\\\INSPER\\\\2 Sem\\\\Ciência dos Dados\\\\lfw_funneled\""
   ]
  },
  {
   "cell_type": "code",
   "execution_count": 45,
   "metadata": {},
   "outputs": [
    {
     "data": {
      "text/plain": [
       "'Tempo para carregar as fotos: 15.26 segundos'"
      ]
     },
     "execution_count": 45,
     "metadata": {},
     "output_type": "execute_result"
    }
   ],
   "source": [
    "initialloadTime = time()\n",
    "\n",
    "os.chdir(path_dataset)\n",
    "\n",
    "with open('male_names.txt','r') as m:\n",
    "    male = m.readlines()\n",
    "    male = [i.replace(\"\\n\",\"\") for i in male]\n",
    "\n",
    "with open('female_names.txt','r') as fm:\n",
    "    female = fm.readlines()\n",
    "    female = [i.replace(\"\\n\",\"\") for i in female]\n",
    "\n",
    "\n",
    "m = []\n",
    "fm = []\n",
    "\n",
    "for pasta in os.listdir(path_dataset):\n",
    "    if \".\" not in pasta:\n",
    "        path_folder = \".\\\\\" + pasta\n",
    "        for im in os.listdir(path_folder):\n",
    "            tempIm = cv2.imread(path_folder + \"\\\\\" + im)\n",
    "\n",
    "            tempIm = cv2.pyrDown(tempIm)\n",
    "            tempIm = tempIm[20:100, 20:100]\n",
    "            tempIm = cv2.pyrDown(tempIm)\n",
    "#             tempIm = cv2.pyrDown(tempIm)\n",
    "            tempIm = cv2.cvtColor(tempIm, cv2.COLOR_BGR2GRAY)\n",
    "            \n",
    "            tempIm = tempIm.flatten()\n",
    "            \n",
    "            if im in male:\n",
    "                m.append(tempIm)\n",
    "            elif im in female:\n",
    "                fm.append(tempIm)\n",
    "\n",
    "os.chdir(path_ori)\n",
    "\n",
    "finalloadTime = time()\n",
    "f'Tempo para carregar as fotos: {finalloadTime - initialloadTime :.2f} segundos'"
   ]
  },
  {
   "cell_type": "code",
   "execution_count": 46,
   "metadata": {
    "scrolled": false
   },
   "outputs": [],
   "source": [
    "def plotImage(crop_img):\n",
    "    newIm = []\n",
    "    for i in range(crop_img.shape[0]):\n",
    "        newIm.append([])\n",
    "        for j in range(crop_img.shape[1]):\n",
    "            newIm[-1].append([crop_img[i,j]]*3)\n",
    "    plt.imshow(newIm)\n",
    "    plt.show()\n",
    "\n",
    "def plotImage1D(arr):\n",
    "    newIm = []\n",
    "    i=0\n",
    "    \n",
    "    while i < len(arr):\n",
    "        newIm.append(arr[i:i+40])\n",
    "        i+=40\n",
    "    plotImage(np.array(newIm))"
   ]
  },
  {
   "cell_type": "code",
   "execution_count": 48,
   "metadata": {},
   "outputs": [],
   "source": [
    "m = m[:len(fm)]\n",
    "X = m + fm\n",
    "y = [0]*len(m) + [1]*len(fm)\n",
    "\n",
    "c = list(zip(X, y))\n",
    "\n",
    "np.random.shuffle(c)\n",
    "\n",
    "X, y = zip(*c)"
   ]
  },
  {
   "cell_type": "code",
   "execution_count": 50,
   "metadata": {},
   "outputs": [],
   "source": [
    "index = round(len(X) * 0.7)\n",
    "X_train, X_test = X[:index], X[index:]\n",
    "y_train, y_test = y[:index], y[index:]"
   ]
  },
  {
   "cell_type": "code",
   "execution_count": 59,
   "metadata": {
    "scrolled": true
   },
   "outputs": [
    {
     "name": "stdout",
     "output_type": "stream",
     "text": [
      "Tempo para treinar o modelo: 0.12 segundos\n",
      "Tempo para treinar o modelo: 0.07 segundos\n"
     ]
    },
    {
     "data": {
      "text/plain": [
       "'Acurácia: 0.6268992684299382'"
      ]
     },
     "execution_count": 59,
     "metadata": {},
     "output_type": "execute_result"
    }
   ],
   "source": [
    "startTrain = time()\n",
    "\n",
    "from sklearn.ensemble import AdaBoostClassifier\n",
    "\n",
    "model = AdaBoostClassifier()\n",
    "model.fit(X_train, y_train)\n",
    "\n",
    "endTrain = time()\n",
    "print(f'Tempo para treinar o modelo: {endTrain - startTrain :.2f} segundos')\n",
    "\n",
    "startPred = time()\n",
    "y_pred = model.predict(X_test)\n",
    "\n",
    "endPred = time()\n",
    "print(f'Tempo para treinar o modelo: {endPred - startPred :.2f} segundos')\n",
    "\n",
    "\n",
    "'Acurácia: {}'.format(accuracy_score(y_test, y_pred))"
   ]
  },
  {
   "cell_type": "code",
   "execution_count": 8,
   "metadata": {},
   "outputs": [],
   "source": [
    "# from sklearn.linear_model import LogisticRegression\n",
    "# LogisticRegression: 0.800705467372134\n",
    "\n",
    "# from sklearn.ensemble import RandomForestClassifier\n",
    "# RandomForestClassifier: 0.8148148148148148\n",
    "\n",
    "# from sklearn.svm import SVC\n",
    "# SVC: 0.7787855883093978\n",
    "\n",
    "# from sklearn.naive_bayes import GaussianNB\n",
    "# GaussianNB: 0.6124968505920887\n",
    "\n",
    "# from sklearn.neural_network import MLPClassifier\n",
    "# MLPClassifier: 0.800705467372134\n",
    "\n",
    "# from sklearn.gaussian_process import GaussianProcessClassifier\n",
    "# GaussianProcessClassifier: 0.7787855883093978\n",
    "\n",
    "# from sklearn.neighbors import KNeighborsClassifier\n",
    "# KNeighborsClassifier: 0.81859410430839\n",
    "\n",
    "# from sklearn.tree import DecisionTreeClassifier\n",
    "# DecisionTreeClassifier: 0.7520786092214664\n",
    "\n",
    "# from sklearn.ensemble import AdaBoostClassifier\n",
    "# AdaBoostClassifier: 0.8377425044091711"
   ]
  },
  {
   "cell_type": "code",
   "execution_count": 68,
   "metadata": {},
   "outputs": [
    {
     "data": {
      "text/plain": [
       "[1810, 1151]"
      ]
     },
     "execution_count": 68,
     "metadata": {},
     "output_type": "execute_result"
    }
   ],
   "source": [
    "l=[0,0]\n",
    "for i in model.predict(m).tolist():\n",
    "    l[i]+=1\n",
    "l\n",
    "# m[0].shape\n",
    "# len(m)/(len(m)+len(fm))\n",
    "# len(fm),len(m)"
   ]
  },
  {
   "cell_type": "code",
   "execution_count": null,
   "metadata": {},
   "outputs": [],
   "source": []
  },
  {
   "cell_type": "code",
   "execution_count": null,
   "metadata": {},
   "outputs": [],
   "source": []
  }
 ],
 "metadata": {
  "kernelspec": {
   "display_name": "Python 3",
   "language": "python",
   "name": "python3"
  },
  "language_info": {
   "codemirror_mode": {
    "name": "ipython",
    "version": 3
   },
   "file_extension": ".py",
   "mimetype": "text/x-python",
   "name": "python",
   "nbconvert_exporter": "python",
   "pygments_lexer": "ipython3",
   "version": "3.6.7"
  }
 },
 "nbformat": 4,
 "nbformat_minor": 2
}
