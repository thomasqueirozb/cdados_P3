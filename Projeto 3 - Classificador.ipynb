{
 "cells": [
  {
   "cell_type": "code",
   "execution_count": 11,
   "metadata": {},
   "outputs": [],
   "source": [
    "import cv2, os\n",
    "import numpy as np\n",
    "import matplotlib.pyplot as plt\n",
    "from time import time"
   ]
  },
  {
   "cell_type": "code",
   "execution_count": 5,
   "metadata": {},
   "outputs": [],
   "source": [
    "path_ori = os.getcwd()\n",
    "path_dataset = \"C:\\\\Users\\\\thoma\\\\Documents\\\\INSPER\\\\2 Sem\\\\Ciência dos Dados\\\\lfw_funneled\""
   ]
  },
  {
   "cell_type": "code",
   "execution_count": 6,
   "metadata": {},
   "outputs": [
    {
     "ename": "FileNotFoundError",
     "evalue": "[WinError 3] O sistema não pode encontrar o caminho especificado: 'C:\\\\Users\\\\thoma\\\\Documents\\\\INSPER\\\\2 Sem\\\\Ciência dos Dados\\\\lfw_funneled'",
     "output_type": "error",
     "traceback": [
      "\u001b[1;31m---------------------------------------------------------------------------\u001b[0m",
      "\u001b[1;31mFileNotFoundError\u001b[0m                         Traceback (most recent call last)",
      "\u001b[1;32m<ipython-input-6-b27851946517>\u001b[0m in \u001b[0;36m<module>\u001b[1;34m()\u001b[0m\n\u001b[0;32m      1\u001b[0m \u001b[0minitialloadTime\u001b[0m \u001b[1;33m=\u001b[0m \u001b[0mtime\u001b[0m\u001b[1;33m(\u001b[0m\u001b[1;33m)\u001b[0m\u001b[1;33m\u001b[0m\u001b[0m\n\u001b[0;32m      2\u001b[0m \u001b[1;33m\u001b[0m\u001b[0m\n\u001b[1;32m----> 3\u001b[1;33m \u001b[0mos\u001b[0m\u001b[1;33m.\u001b[0m\u001b[0mchdir\u001b[0m\u001b[1;33m(\u001b[0m\u001b[0mpath_dataset\u001b[0m\u001b[1;33m)\u001b[0m\u001b[1;33m\u001b[0m\u001b[0m\n\u001b[0m\u001b[0;32m      4\u001b[0m \u001b[1;33m\u001b[0m\u001b[0m\n\u001b[0;32m      5\u001b[0m \u001b[0mimages\u001b[0m \u001b[1;33m=\u001b[0m \u001b[1;33m[\u001b[0m\u001b[1;33m]\u001b[0m\u001b[1;33m\u001b[0m\u001b[0m\n",
      "\u001b[1;31mFileNotFoundError\u001b[0m: [WinError 3] O sistema não pode encontrar o caminho especificado: 'C:\\\\Users\\\\thoma\\\\Documents\\\\INSPER\\\\2 Sem\\\\Ciência dos Dados\\\\lfw_funneled'"
     ]
    }
   ],
   "source": [
    "initialloadTime = time()\n",
    "\n",
    "os.chdir(path_dataset)\n",
    "\n",
    "with open('male_names.txt','r') as m:\n",
    "    male = m.readlines()\n",
    "    male = [i.replace(\"\\n\",\"\") for i in male]\n",
    "\n",
    "with open('female_names.txt','r') as fm:\n",
    "    female = fm.readlines()\n",
    "    female = [i.replace(\"\\n\",\"\") for i in female]\n",
    "\n",
    "\n",
    "m = []\n",
    "fm = []\n",
    "\n",
    "for pasta in os.listdir(path_dataset):\n",
    "    if \".\" not in pasta:\n",
    "        path_folder = \".\\\\\" + pasta\n",
    "        for im in os.listdir(path_folder):\n",
    "            tempIm = cv2.imread(path_folder + \"\\\\\" + im)\n",
    "\n",
    "            tempIm = cv2.pyrDown(tempIm)\n",
    "            tempIm = tempIm[20:100, 20:100]\n",
    "            tempIm = cv2.cvtColor(tempIm, cv2.COLOR_BGR2GRAY)\n",
    "            \n",
    "            tempIm = tempIm.flatten()\n",
    "            \n",
    "            if im in male:\n",
    "                m.append(tempIm)\n",
    "            elif im in female:\n",
    "                fm.append(tempIm)\n",
    "\n",
    "os.chdir(path_ori)\n",
    "\n",
    "finalloadTime = time()\n",
    "f'Tempo para carregar as fotos: {finalloadTime - initialloadTime :.2f} segundos'"
   ]
  },
  {
   "cell_type": "code",
   "execution_count": null,
   "metadata": {},
   "outputs": [],
   "source": [
    "def plotImage(crop_img):\n",
    "    newIm = []\n",
    "    for i in range(crop_img.shape[0]):\n",
    "        newIm.append([])\n",
    "        for j in range(crop_img.shape[1]):\n",
    "            newIm[-1].append([crop_img[i,j]]*3)\n",
    "    plt.imshow(newIm)\n",
    "    plt.show()\n",
    "\n",
    "def plotImage1D(arr):\n",
    "    newIm = []\n",
    "    i=0\n",
    "    \n",
    "    while i < len(arr):\n",
    "        newIm.append(arr[i:i+80])\n",
    "        i+=80\n",
    "    plotImage(np.array(newIm))"
   ]
  },
  {
   "cell_type": "code",
   "execution_count": 7,
   "metadata": {},
   "outputs": [],
   "source": [
    "X = m + fm\n",
    "y = [0]*len(m) + [1]*len(fm)\n",
    "\n",
    "c = list(zip(X, y))\n",
    "\n",
    "np.random.shuffle(c)\n",
    "\n",
    "X, y = zip(*c)"
   ]
  },
  {
   "cell_type": "code",
   "execution_count": 8,
   "metadata": {},
   "outputs": [],
   "source": [
    "index = round(len(X) * 0.7)\n",
    "X_train, X_test = X[:index], X[index:]\n",
    "y_train, y_test = y[:index], y[index:]"
   ]
  },
  {
   "cell_type": "code",
   "execution_count": null,
   "metadata": {},
   "outputs": [],
   "source": [
    "from sklearn.linear_model import LogisticRegression\n",
    "from sklearn.metrics import accuracy_score\n",
    "\n",
    "model = LogisticRegression()\n",
    "model.fit(X_train, y_train)\n",
    "y_pred = model.predict(X_test)\n",
    "print('Acurácia: {}'.format(accuracy_score(y_test, y_pred)))\n",
    "\n",
    "# LogisticRegression : 0.800705467372134"
   ]
  },
  {
   "cell_type": "code",
   "execution_count": null,
   "metadata": {},
   "outputs": [],
   "source": []
  },
  {
   "cell_type": "code",
   "execution_count": null,
   "metadata": {},
   "outputs": [],
   "source": []
  }
 ],
 "metadata": {
  "kernelspec": {
   "display_name": "Python 3",
   "language": "python",
   "name": "python3"
  },
  "language_info": {
   "codemirror_mode": {
    "name": "ipython",
    "version": 3
   },
   "file_extension": ".py",
   "mimetype": "text/x-python",
   "name": "python",
   "nbconvert_exporter": "python",
   "pygments_lexer": "ipython3",
   "version": "3.6.4"
  }
 },
 "nbformat": 4,
 "nbformat_minor": 2
}
